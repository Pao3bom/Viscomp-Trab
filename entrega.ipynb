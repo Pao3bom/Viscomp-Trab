{
 "cells": [
  {
   "cell_type": "code",
   "execution_count": null,
   "metadata": {},
   "outputs": [],
   "source": [
    "import pandas as pd\n",
    "import altair as alt\n",
    "import requests as req\n",
    "import numpy as np\n",
    "from scipy import stats\n",
    "from collections import defaultdict\n",
    "import math\n",
    "alt.data_transformers.enable(\"vegafusion\")"
   ]
  },
  {
   "cell_type": "code",
   "execution_count": null,
   "metadata": {},
   "outputs": [],
   "source": [
    "openml_url = \"https://www.openml.org/api/v1/json/data/43633\"\n",
    "dataset = req.get(openml_url).json()['data_set_description']"
   ]
  },
  {
   "cell_type": "markdown",
   "metadata": {},
   "source": [
    "### Pre-Processing"
   ]
  },
  {
   "cell_type": "code",
   "execution_count": null,
   "metadata": {},
   "outputs": [],
   "source": [
    "df = pd.read_parquet(dataset['parquet_url'])\n",
    "df"
   ]
  },
  {
   "cell_type": "code",
   "execution_count": null,
   "metadata": {},
   "outputs": [],
   "source": [
    "df = df.dropna()\n",
    "\n",
    "sale_date_list = df['SALE_DATE'].str.split(\" \").to_list()\n",
    "sale_year_list = []\n",
    "sale_month_list = []\n",
    "month_name = []\n",
    "month_dict ={\n",
    "    1: 'Jan',\n",
    "    2: 'Feb',\n",
    "    3: 'Mar',\n",
    "    4: 'Apr',\n",
    "    5: 'May',\n",
    "    6: 'Jun',\n",
    "    7: 'Jul',\n",
    "    8: 'Aug',\n",
    "    9: 'Sep',\n",
    "    10: 'Oct',\n",
    "    11: 'Nov',\n",
    "    12: 'Dec'\n",
    "}\n",
    "\n",
    "for date in sale_date_list:\n",
    "    sale_year_list.append(int(date[0].split(\"-\")[0]))\n",
    "    sale_month_list.append(int(date[0].split(\"-\")[1]))\n",
    "    month_name.append(month_dict[int(date[0].split(\"-\")[1])])\n",
    "\n",
    "df['SALE_MONTH'] = sale_month_list\n",
    "df['SALE_YEAR'] = sale_year_list\n",
    "df['MONTH_NAME']  = month_name\n",
    "borough_dict = {\n",
    "    1: 'Manhattan',\n",
    "    2: 'The Bronx',\n",
    "    3: 'Brooklyn',\n",
    "    4: 'Queens',\n",
    "    5: 'Staten Island'\n",
    "}\n",
    "\n",
    "df['BOROUGH_NAME'] = df['BOROUGH'].map(borough_dict)\n",
    "df"
   ]
  },
  {
   "cell_type": "code",
   "execution_count": null,
   "metadata": {},
   "outputs": [],
   "source": [
    "df = df[np.abs(stats.zscore(df['SALE_PRICE'])) < 3]\n",
    "df = df.query('SALE_PRICE > 0')\n",
    "df"
   ]
  },
  {
   "cell_type": "code",
   "execution_count": null,
   "metadata": {},
   "outputs": [],
   "source": [
    "sale_dict = defaultdict(lambda: 0)\n",
    "sold_addresses = df['ADDRESS'].to_list()\n",
    "\n",
    "for address in sold_addresses:\n",
    "    sale_dict[address] += 1\n",
    "\n",
    "df['SALES'] = df['ADDRESS'].map(sale_dict)\n",
    "\n",
    "mean_price_per_address = dict(df.groupby('ADDRESS')['SALE_PRICE'].mean())\n",
    "df['MEAN_ADDRESS_PRICE'] = df['ADDRESS'].map(mean_price_per_address)\n",
    "\n",
    "def log_calc(x):\n",
    "    if x == 0: return 0\n",
    "    else: return math.log(x)\n",
    "\n",
    "df['SALE_PRICE_log'] = df['SALE_PRICE'].map(log_calc)\n",
    "df['LAND_SQUARE_FEET_log'] = df['LAND_SQUARE_FEET'].map(log_calc)\n",
    "df['GROSS_SQUARE_FEET_log'] = df['GROSS_SQUARE_FEET'].map(log_calc)\n",
    "df['MEAN_ADDRESS_PRICE_log'] = df['MEAN_ADDRESS_PRICE'].map(log_calc)\n",
    "\n",
    "df"
   ]
  },
  {
   "cell_type": "code",
   "execution_count": null,
   "metadata": {},
   "outputs": [],
   "source": [
    "def rename(x):\n",
    "    x = x.rstrip()\n",
    "\n",
    "    if len(x) == 0: return 'UNKNOWN'\n",
    "\n",
    "    return x.replace(\"  \", \" \")\n",
    "\n",
    "df['BUILDING_CLASS_CATEGORY'] = df['BUILDING_CLASS_CATEGORY'].map(rename)"
   ]
  },
  {
   "cell_type": "markdown",
   "metadata": {},
   "source": [
    "### First Iteration Plots"
   ]
  },
  {
   "cell_type": "code",
   "execution_count": null,
   "metadata": {},
   "outputs": [],
   "source": [
    "upper = alt.Chart(df).mark_boxplot(size=50).encode(\n",
    "    x='SALE_YEAR:N',\n",
    "    y='SALE_PRICE:Q' \n",
    ").properties(width=1000)\n",
    "\n",
    "lower = alt.Chart(df).mark_boxplot(clip=True, size=50).encode(\n",
    "    y = alt.Y('SALE_PRICE:Q', scale=alt.Scale(domain=[0, 2000000])),\n",
    "    x='SALE_YEAR:N' \n",
    ").properties(width=1000)\n",
    "\n",
    "alt.vconcat(upper, lower)"
   ]
  },
  {
   "cell_type": "code",
   "execution_count": null,
   "metadata": {},
   "outputs": [],
   "source": [
    "right = alt.Chart(df).mark_bar(clip=True, size=20).encode(\n",
    "    y = alt.Y('count()', scale=alt.Scale(domain=[70000, 110000])),\n",
    "    x= alt.X('MONTH_NAME:O', sort=alt.EncodingSortField(field=\"SALE_MONTH\", order='ascending'))\n",
    ").properties(width=500, height=500)\n",
    "\n",
    "left = alt.Chart(df).mark_bar(clip=True, size=20).encode(\n",
    "    y = alt.Y('median(SALE_PRICE)', scale=alt.Scale(domain=[450000, 500000])),\n",
    "    x= alt.X('MONTH_NAME:O', sort=alt.EncodingSortField(field=\"SALE_MONTH\", order='ascending'))\n",
    ").properties(width=500, height=500)\n",
    "\n",
    "alt.hconcat(right, left, spacing=30)"
   ]
  },
  {
   "cell_type": "code",
   "execution_count": null,
   "metadata": {},
   "outputs": [],
   "source": [
    "alt.Chart(df).mark_line(clip=True).encode(\n",
    "    y = alt.Y('median(SALE_PRICE)', scale=alt.Scale(domain=[200000, 2000000])),\n",
    "    x = 'SALE_YEAR:O',\n",
    "    color = 'BOROUGH_NAME'\n",
    ").properties(width=500, height=500)"
   ]
  },
  {
   "cell_type": "markdown",
   "metadata": {},
   "source": [
    "## Final Iteration"
   ]
  },
  {
   "cell_type": "code",
   "execution_count": null,
   "metadata": {},
   "outputs": [],
   "source": [
    "slider = alt.binding_range(min=df['SALE_YEAR'].min(), max=df['SALE_YEAR'].max(), step=1, name='Year ')\n",
    "selector = alt.param(name='SelectorName', value=2003, bind=slider)\n",
    "selection2 = alt.selection_interval(bind='scales')\n",
    "\n",
    "alt.Chart(df).add_params(\n",
    "    selector,\n",
    "    selection2\n",
    ").transform_aggregate(\n",
    "    yearly_median_price = 'median(SALE_PRICE)',\n",
    "    yearly_mean_land = 'mean(LAND_SQUARE_FEET)',\n",
    "    groupby=['NEIGHBORHOOD', 'SALE_YEAR', 'BOROUGH_NAME']\n",
    ").mark_point(clip=True).encode(\n",
    "    y = alt.Y('yearly_median_price:Q', scale=alt.Scale(domain=[0, 1000000])),\n",
    "    x = alt.X('yearly_mean_land:Q', scale=alt.Scale(domain=[0, 10000])),\n",
    "    color = 'BOROUGH_NAME:N',\n",
    "    detail = 'NEIGHBORHOOD:N',\n",
    "    tooltip='NEIGHBORHOOD:N'\n",
    ").transform_filter(\n",
    "    (alt.datum.SALE_YEAR == selector)\n",
    ").properties(width=1000, height=500)"
   ]
  },
  {
   "cell_type": "code",
   "execution_count": null,
   "metadata": {},
   "outputs": [],
   "source": [
    "min_sale_num = 6\n",
    "aux_df = df.query(f'SALES >= {min_sale_num}')\n",
    "\n",
    "slider = alt.binding_range(min=0, max=9, step=1, name='Sales 1s')\n",
    "selector = alt.param(name='SelectorName_1s', value=min_sale_num, bind=slider)\n",
    "\n",
    "slider_tens = alt.binding_range(min=0, max=90, step=10, name='Sales 10s')\n",
    "selector_tens = alt.param(name='SelectorName_10s', value=0, bind=slider_tens)\n",
    "\n",
    "slider_hundreds = alt.binding_range(min=0, max=900, step=100, name='Sales 100s')\n",
    "selector_hundreds = alt.param(name='SelectorName_100s', value=0, bind=slider_hundreds)\n",
    "\n",
    "top = alt.Chart(aux_df).mark_rect().encode(\n",
    "    y = alt.Y('BOROUGH_NAME:N'),\n",
    "    x = alt.X('BUILDING_CLASS_CATEGORY:N'),\n",
    "    color=alt.Color('count():Q', legend=alt.Legend(orient='top', direction='horizontal', title='Ocorrências em Logaritimo')).scale(type=\"log\"),\n",
    "    tooltip='count():Q'\n",
    ").transform_filter(\n",
    "    (alt.datum.SALES >= (selector + selector_tens + selector_hundreds))\n",
    ").properties(height = 500, width = 1480)\n",
    "\n",
    "\n",
    "bottom = alt.Chart(aux_df).add_params(\n",
    "    selector, selector_tens, selector_hundreds\n",
    ").transform_aggregate(\n",
    "    groupby=['ADDRESS', 'MEAN_ADDRESS_PRICE', 'SALES']\n",
    ").mark_boxplot().encode(\n",
    "    x = alt.X('MEAN_ADDRESS_PRICE:Q', scale=alt.Scale(domain=[0, aux_df['MEAN_ADDRESS_PRICE'].max()])),\n",
    "    tooltip='ADDRESS:N'\n",
    ").transform_filter(\n",
    "    (alt.datum.SALES >= (selector + selector_tens + selector_hundreds))\n",
    ").properties(width=1480)\n",
    "\n",
    "alt.vconcat(top, bottom, spacing=30) "
   ]
  }
 ],
 "metadata": {
  "kernelspec": {
   "display_name": "Python 3",
   "language": "python",
   "name": "python3"
  },
  "language_info": {
   "codemirror_mode": {
    "name": "ipython",
    "version": 3
   },
   "file_extension": ".py",
   "mimetype": "text/x-python",
   "name": "python",
   "nbconvert_exporter": "python",
   "pygments_lexer": "ipython3",
   "version": "3.11.10"
  }
 },
 "nbformat": 4,
 "nbformat_minor": 2
}
